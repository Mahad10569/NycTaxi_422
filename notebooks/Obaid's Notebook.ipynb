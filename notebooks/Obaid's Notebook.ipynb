{
 "cells": [
  {
   "cell_type": "code",
   "execution_count": 0,
   "metadata": {
    "application/vnd.databricks.v1+cell": {
     "cellMetadata": {
      "byteLimit": 2048000,
      "implicitDf": true,
      "rowLimit": 10000
     },
     "inputWidgets": {},
     "nuid": "c6fa5cec-d616-4c3f-9b06-355cfb63281b",
     "showTitle": false,
     "tableResultSettingsMap": {},
     "title": ""
    }
   },
   "outputs": [],
   "source": [
    "%sql\n",
    "USE CATALOG nyc_taxi;\n",
    "USE SCHEMA nyc_taxi_schema;"
   ]
  },
  {
   "cell_type": "code",
   "execution_count": 0,
   "metadata": {
    "application/vnd.databricks.v1+cell": {
     "cellMetadata": {
      "byteLimit": 2048000,
      "rowLimit": 10000
     },
     "inputWidgets": {},
     "nuid": "797f2d0d-f389-49da-a5e5-fb9c0e295069",
     "showTitle": false,
     "tableResultSettingsMap": {},
     "title": ""
    }
   },
   "outputs": [],
   "source": [
    "spark.sql(\"USE CATALOG nyc_taxi\")\n",
    "spark.sql(\"USE SCHEMA nyc_taxi_schema\")\n",
    "\n",
    "\n",
    "df = spark.table(\"nyc_taxi.nyc_taxi_schema.yellow_trips_csv_v\")"
   ]
  },
  {
   "cell_type": "code",
   "execution_count": 0,
   "metadata": {
    "application/vnd.databricks.v1+cell": {
     "cellMetadata": {
      "byteLimit": 2048000,
      "rowLimit": 10000
     },
     "inputWidgets": {},
     "nuid": "b3e3c941-cf8e-4d49-960f-072ff7b2be52",
     "showTitle": false,
     "tableResultSettingsMap": {},
     "title": ""
    }
   },
   "outputs": [],
   "source": [
    "df.printSchema()\n",
    "display(df)"
   ]
  },
  {
   "cell_type": "code",
   "execution_count": 0,
   "metadata": {
    "application/vnd.databricks.v1+cell": {
     "cellMetadata": {
      "byteLimit": 2048000,
      "rowLimit": 10000
     },
     "inputWidgets": {},
     "nuid": "0340c5f7-9a44-4098-a4bf-13a6f27db5d1",
     "showTitle": false,
     "tableResultSettingsMap": {},
     "title": ""
    }
   },
   "outputs": [],
   "source": [
    "num_cols = [\"trip_distance\",\"passenger_count\",\"fare_amount\",\"tip_amount\",\"tolls_amount\",\"mta_tax\",\"extra\",\"improvement_surcharge\",\"total_amount\"]\n",
    "display(df.select(*num_cols).summary())\n"
   ]
  },
  {
   "cell_type": "code",
   "execution_count": 0,
   "metadata": {
    "application/vnd.databricks.v1+cell": {
     "cellMetadata": {
      "byteLimit": 2048000,
      "rowLimit": 10000
     },
     "inputWidgets": {},
     "nuid": "5f289f07-46ce-4d75-aef6-2c1f8617c834",
     "showTitle": false,
     "tableResultSettingsMap": {},
     "title": ""
    }
   },
   "outputs": [],
   "source": [
    "\n",
    "clean = df.na.drop(subset=['fare_amount', 'trip_distance', 'passenger_count'])\n",
    "\n",
    "clean = clean.filter((clean.fare_amount >=0)&(clean.trip_distance >=0)&(clean.passenger_count >0)& (clean.tpep_pickup_datetime < clean.tpep_dropoff_datetime)& (clean.pickup_longitude !=0) & (clean.pickup_latitude !=0) & (clean.dropoff_longitude !=0) & (clean.dropoff_latitude !=0))\n",
    "print(clean.count())\n",
    "     "
   ]
  },
  {
   "cell_type": "code",
   "execution_count": 0,
   "metadata": {
    "application/vnd.databricks.v1+cell": {
     "cellMetadata": {
      "byteLimit": 2048000,
      "rowLimit": 10000
     },
     "inputWidgets": {},
     "nuid": "0003c0e6-266d-4a41-804c-b381532e029d",
     "showTitle": false,
     "tableResultSettingsMap": {},
     "title": ""
    }
   },
   "outputs": [],
   "source": [
    "from pyspark.sql import functions as F\n",
    "clean = clean.withColumn(\"trip_duration (m)\", F.round((F.col(\"tpep_dropoff_datetime\").cast(\"long\") -F.col(\"tpep_pickup_datetime\").cast(\"long\"))/60,2))\n",
    "clean = clean.withColumn(\"trip_speed(mph)\", F.round((F.col(\"trip_distance\")/(F.col(\"trip_duration (m)\")/60)),2))\n",
    "display(clean)"
   ]
  },
  {
   "cell_type": "code",
   "execution_count": 0,
   "metadata": {
    "application/vnd.databricks.v1+cell": {
     "cellMetadata": {
      "byteLimit": 2048000,
      "rowLimit": 10000
     },
     "inputWidgets": {},
     "nuid": "b2139c0c-3bfd-485f-a174-d36cfeba71ee",
     "showTitle": false,
     "tableResultSettingsMap": {},
     "title": ""
    }
   },
   "outputs": [],
   "source": [
    "import pandas as pd\n",
    "import numpy as np\n",
    "import pyspark.pandas as ps\n",
    "from pyspark.sql import SparkSession\n",
    "\n",
    "psdf = clean.pandas_api()\n",
    "psdf = psdf.groupby('passenger_count')[['fare_amount','trip_distance']].mean().reset_index()\n",
    "display(psdf)"
   ]
  },
  {
   "cell_type": "code",
   "execution_count": 0,
   "metadata": {
    "application/vnd.databricks.v1+cell": {
     "cellMetadata": {
      "byteLimit": 2048000,
      "rowLimit": 10000
     },
     "inputWidgets": {},
     "nuid": "d297604c-0155-4224-ae4b-f4a493728375",
     "showTitle": false,
     "tableResultSettingsMap": {},
     "title": ""
    }
   },
   "outputs": [],
   "source": [
    "by_hour = clean.withColumn(\"pickup_hour\", F.hour(F.col(\"tpep_pickup_datetime\"))).groupBy(\"pickup_hour\").count().orderBy(F.desc(\"count\"))\n",
    "display(by_hour)"
   ]
  },
  {
   "cell_type": "code",
   "execution_count": 0,
   "metadata": {
    "application/vnd.databricks.v1+cell": {
     "cellMetadata": {
      "byteLimit": 2048000,
      "rowLimit": 10000
     },
     "inputWidgets": {},
     "nuid": "7e35ed2f-460e-4fb2-b097-b7a00bc72e8a",
     "showTitle": false,
     "tableResultSettingsMap": {},
     "title": ""
    }
   },
   "outputs": [],
   "source": [
    "#round coords to 0.01 grids to make neighborhood\n",
    "cells = clean.withColumn(\"pickup_lat_r\",  F.round(\"pickup_latitude\", 2)) \\\n",
    "             .withColumn(\"pickup_lon_r\",  F.round(\"pickup_longitude\", 2))\n",
    "\n",
    "avg_fare_by_cell = cells.groupBy(\"pickup_lat_r\",\"pickup_lon_r\") \\\n",
    "                        .agg(F.avg(\"fare_amount\").alias(\"avg_fare\"), F.count(\"*\").alias(\"n\")) \\\n",
    "                        .filter(\"n >= 200\") \\\n",
    "                        .orderBy(F.desc(\"avg_fare\"))\n",
    "display(avg_fare_by_cell)\n"
   ]
  },
  {
   "cell_type": "code",
   "execution_count": 0,
   "metadata": {
    "application/vnd.databricks.v1+cell": {
     "cellMetadata": {
      "byteLimit": 2048000,
      "rowLimit": 10000
     },
     "inputWidgets": {},
     "nuid": "a660ea95-b14e-4b76-b94b-287114f008cb",
     "showTitle": false,
     "tableResultSettingsMap": {},
     "title": ""
    }
   },
   "outputs": [],
   "source": [
    "#6a still needs fixing\n",
    "import matplotlib.pyplot as plt\n",
    "import seaborn as sns\n",
    "\n",
    "bin_count = 50\n",
    "trip_distances = clean.select(\"trip_distance\").toPandas()[\"trip_distance\"]\n",
    "\n",
    "plt.figure(figsize=(9,5))\n",
    "sns.histplot(trip_distances, bins=bin_count, kde=True)\n",
    "plt.title(\"Trip Distance Distribution (miles)\")\n",
    "plt.xlabel(\"Trip distance (miles)\")\n",
    "plt.ylabel(\"Count\")\n",
    "plt.show()"
   ]
  },
  {
   "cell_type": "code",
   "execution_count": 0,
   "metadata": {
    "application/vnd.databricks.v1+cell": {
     "cellMetadata": {
      "byteLimit": 2048000,
      "rowLimit": 10000
     },
     "inputWidgets": {},
     "nuid": "3428bbba-48f3-4fac-b9f8-7d985d1d39cc",
     "showTitle": false,
     "tableResultSettingsMap": {},
     "title": ""
    }
   },
   "outputs": [],
   "source": [
    "fare_by_hour_sdf = (\n",
    "    clean\n",
    "    .withColumn(\"pickup_hour\", F.hour(F.col(\"tpep_pickup_datetime\")))\n",
    "    .groupBy(\"pickup_hour\")\n",
    "    .agg(F.avg(\"fare_amount\").alias(\"avg_fare\"))\n",
    "    .orderBy(\"pickup_hour\")\n",
    ")\n",
    "\n",
    "fare_by_hour = fare_by_hour_sdf.toPandas()\n",
    "\n",
    "plt.figure(figsize=(9,5))\n",
    "plt.bar(fare_by_hour[\"pickup_hour\"], fare_by_hour[\"avg_fare\"])\n",
    "plt.title(\"Average Fare by Hour of Day\")\n",
    "plt.xlabel(\"Hour of day (0–23)\")\n",
    "plt.ylabel(\"Average fare (USD)\")\n",
    "plt.xticks(range(0,24))\n",
    "plt.tight_layout()\n"
   ]
  }
 ],
 "metadata": {
  "application/vnd.databricks.v1+notebook": {
   "computePreferences": null,
   "dashboards": [],
   "environmentMetadata": {
    "base_environment": "",
    "environment_version": "3"
   },
   "inputWidgetPreferences": null,
   "language": "python",
   "notebookMetadata": {
    "mostRecentlyExecutedCommandWithImplicitDF": {
     "commandId": 8800665759614254,
     "dataframes": [
      "_sqldf"
     ]
    },
    "pythonIndentUnit": 4
   },
   "notebookName": "Obaid's Notebook",
   "widgets": {}
  },
  "language_info": {
   "name": "python"
  }
 },
 "nbformat": 4,
 "nbformat_minor": 0
}
